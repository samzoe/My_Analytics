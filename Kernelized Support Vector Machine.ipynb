{
 "cells": [
  {
   "cell_type": "markdown",
   "id": "2d99d7cc",
   "metadata": {},
   "source": [
    "Comparing model performance of the Radial Basis Function (RBF) and polynomial kernel in a Kernelized Support Vector Machine on the Breast Cancer dataset using Recall as the evaluation metric. Careful hyperparameter tuning was done to optimize model performance."
   ]
  },
  {
   "cell_type": "code",
   "execution_count": 87,
   "id": "32a4a9be",
   "metadata": {},
   "outputs": [],
   "source": [
    "# Load the relevant libraries\n",
    "import numpy as np\n",
    "import pandas as pd\n",
    "from sklearn.model_selection import train_test_split\n",
    "from sklearn.datasets import load_breast_cancer\n",
    "from sklearn.svm import SVC"
   ]
  },
  {
   "cell_type": "code",
   "execution_count": 88,
   "id": "effcbf09",
   "metadata": {},
   "outputs": [],
   "source": [
    "# Load the breast cancer dataset\n",
    "data = load_breast_cancer()"
   ]
  },
  {
   "cell_type": "code",
   "execution_count": 89,
   "id": "5eaca40e",
   "metadata": {},
   "outputs": [],
   "source": [
    "# Accessing the dataset\n",
    "X = data.data\n",
    "y = data.target"
   ]
  },
  {
   "cell_type": "code",
   "execution_count": 90,
   "id": "5bc22631",
   "metadata": {},
   "outputs": [
    {
     "data": {
      "text/plain": [
       "(569, 30)"
      ]
     },
     "execution_count": 90,
     "metadata": {},
     "output_type": "execute_result"
    }
   ],
   "source": [
    "# A little EDA\n",
    "X.shape"
   ]
  },
  {
   "cell_type": "code",
   "execution_count": 91,
   "id": "326f36c3",
   "metadata": {},
   "outputs": [
    {
     "name": "stdout",
     "output_type": "stream",
     "text": [
      "{0: 212, 1: 357}\n"
     ]
    }
   ],
   "source": [
    "# Checking the value counts for each class\n",
    "values,counts = np.unique(y, return_counts = True)\n",
    "value_counts = dict(zip(arr,counts))\n",
    "print(value_counts)"
   ]
  },
  {
   "cell_type": "code",
   "execution_count": 92,
   "id": "d35c5aef",
   "metadata": {},
   "outputs": [],
   "source": [
    "# Splitting the dataset into training and test sets\n",
    "X_train, X_test, y_train, y_test = train_test_split(X,y, random_state = 0)"
   ]
  },
  {
   "cell_type": "markdown",
   "id": "f181a54c",
   "metadata": {},
   "source": [
    "###### Cross Validation with recall as the evaluation metric"
   ]
  },
  {
   "cell_type": "code",
   "execution_count": 93,
   "id": "e738fb00",
   "metadata": {},
   "outputs": [
    {
     "name": "stdout",
     "output_type": "stream",
     "text": [
      "Cross validation scores: [1.         1.         1.         1.         0.98113208]\n",
      "Mean score: 1.00\n"
     ]
    }
   ],
   "source": [
    "# Applying cross validation to check the performance of the model using the rbf kernel \n",
    "from sklearn.model_selection import cross_val_score\n",
    "from sklearn.metrics import make_scorer, recall_score\n",
    "\n",
    "clf0 = SVC(kernel = 'rbf' , gamma = 0.01, C=5)\n",
    "scoring = make_scorer(recall_score, pos_label=1)\n",
    "cv_scores = cross_val_score(clf0, X_train, y_train, cv=5, scoring = scoring)\n",
    "print(\"Cross validation scores: {}\".format(cv_scores))\n",
    "print(\"Mean score: {:.2f}\".format(cv_scores.mean()))"
   ]
  },
  {
   "cell_type": "code",
   "execution_count": 94,
   "id": "02854d66",
   "metadata": {},
   "outputs": [
    {
     "name": "stdout",
     "output_type": "stream",
     "text": [
      "Cross validation scores: [1.         1.         0.98113208 0.96226415 0.98113208]\n",
      "Mean score: 0.98\n"
     ]
    }
   ],
   "source": [
    "# Applying cross validation to check the performance of the model using the polynomial kernel\n",
    "\n",
    "clfp10 = SVC(kernel = 'poly' , degree = 3, C=10)\n",
    "scoring = make_scorer(recall_score, pos_label=1)\n",
    "cv_scores = cross_val_score(clfp10, X_train, y_train, cv=5, scoring=scoring)\n",
    "print(\"Cross validation scores: {}\".format(cv_scores))\n",
    "print(\"Mean score: {:.2f}\".format(cv_scores.mean()))"
   ]
  },
  {
   "cell_type": "markdown",
   "id": "3bf483e8",
   "metadata": {},
   "source": [
    "##### Model fitting and evaluation"
   ]
  },
  {
   "cell_type": "code",
   "execution_count": 95,
   "id": "1606fa58",
   "metadata": {},
   "outputs": [],
   "source": [
    "# Model fitting using the rbf kernel\n",
    "clf1_rbf = SVC(kernel = 'rbf' , gamma = 0.01, C=5).fit(X_train,y_train)"
   ]
  },
  {
   "cell_type": "code",
   "execution_count": 96,
   "id": "53bcd1e3",
   "metadata": {},
   "outputs": [
    {
     "name": "stdout",
     "output_type": "stream",
     "text": [
      "Recall score:, Training set 1.00\n",
      "Recall score:, Test set 0.98\n"
     ]
    }
   ],
   "source": [
    "# Model evaluation\n",
    "y_pred = clf1_rbf.predict(X_test)\n",
    "y_pred2 = clf1_rbf.predict(X_train)\n",
    "recall_rbf = recall_score(y_test,y_pred)\n",
    "recall_rbf1 = recall_score(y_train,y_pred2)\n",
    "\n",
    "print(\"Recall score:, Training set {:.2f}\".format(recall_rbf1))\n",
    "print(\"Recall score:, Test set {:.2f}\".format(recall_rbf))"
   ]
  },
  {
   "cell_type": "code",
   "execution_count": 97,
   "id": "b4606085",
   "metadata": {},
   "outputs": [],
   "source": [
    "# Model fitting using the polynomial kernel\n",
    "clf_poly1 = SVC(kernel = 'poly' , degree = 3, C=10).fit(X_train, y_train)"
   ]
  },
  {
   "cell_type": "code",
   "execution_count": 98,
   "id": "a2f07388",
   "metadata": {},
   "outputs": [
    {
     "name": "stdout",
     "output_type": "stream",
     "text": [
      "Recall score , Training set: 0.98\n",
      "Recall score , Test set: 0.98\n"
     ]
    }
   ],
   "source": [
    "# Model evaluation\n",
    "y_pred0 = clf_poly1.predict(X_train)\n",
    "y_pred1 = clf_poly1.predict(X_test)\n",
    "\n",
    "recall_poly0 = recall_score(y_train,y_pred0)\n",
    "recall_poly = recall_score(y_test,y_pred1)\n",
    "\n",
    "print(\"Recall score , Training set: {:.2f}\".format(recall_poly0))\n",
    "print(\"Recall score , Test set: {:.2f}\".format(recall_poly))"
   ]
  },
  {
   "cell_type": "markdown",
   "id": "63ae3008",
   "metadata": {},
   "source": [
    "Given this particular dataset and choosing the best hyperparameters for both kernels, they have similar model performances."
   ]
  }
 ],
 "metadata": {
  "kernelspec": {
   "display_name": "Python 3 (ipykernel)",
   "language": "python",
   "name": "python3"
  },
  "language_info": {
   "codemirror_mode": {
    "name": "ipython",
    "version": 3
   },
   "file_extension": ".py",
   "mimetype": "text/x-python",
   "name": "python",
   "nbconvert_exporter": "python",
   "pygments_lexer": "ipython3",
   "version": "3.11.2"
  }
 },
 "nbformat": 4,
 "nbformat_minor": 5
}
